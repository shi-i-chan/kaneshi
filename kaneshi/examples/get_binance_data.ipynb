{
 "cells": [
  {
   "cell_type": "code",
   "execution_count": 1,
   "id": "7dec69a0",
   "metadata": {},
   "outputs": [],
   "source": [
    "import sys\n",
    "sys.path.insert(1, 'D:/kaneshi')\n",
    "import kaneshi\n",
    "\n",
    "from kaneshi.binance_data.binance_data import BinanceVisionData"
   ]
  },
  {
   "cell_type": "code",
   "execution_count": 2,
   "id": "59c32816",
   "metadata": {},
   "outputs": [
    {
     "name": "stderr",
     "output_type": "stream",
     "text": [
      "BTCUSDT: 100%|█████████████████████████████████████████████████████████████████████████| 28/28 [02:18<00:00,  4.94s/it]\n",
      "ETHUSDT: 100%|█████████████████████████████████████████████████████████████████████████| 28/28 [02:07<00:00,  4.54s/it]\n",
      "XRPUSDT: 100%|█████████████████████████████████████████████████████████████████████████| 28/28 [02:02<00:00,  4.39s/it]\n"
     ]
    }
   ],
   "source": [
    "from kaneshi.binance_data.binance_data import BinanceVisionData\n",
    "\n",
    "config = {\n",
    "    's_date': (2021, 1, 1),\n",
    "    'e_date': (2023, 4, 1),\n",
    "    'type_':  'monthly',\n",
    "    'symbols': ['BTCUSDT', 'ETHUSDT', 'XRPUSDT']\n",
    "}\n",
    "\n",
    "with BinanceVisionData(**config) as binance_data:\n",
    "    binance_data.get_candles()"
   ]
  },
  {
   "cell_type": "code",
   "execution_count": null,
   "id": "17cb127a",
   "metadata": {},
   "outputs": [],
   "source": []
  }
 ],
 "metadata": {
  "kernelspec": {
   "display_name": "Python 3 (ipykernel)",
   "language": "python",
   "name": "python3"
  },
  "language_info": {
   "codemirror_mode": {
    "name": "ipython",
    "version": 3
   },
   "file_extension": ".py",
   "mimetype": "text/x-python",
   "name": "python",
   "nbconvert_exporter": "python",
   "pygments_lexer": "ipython3",
   "version": "3.8.16"
  }
 },
 "nbformat": 4,
 "nbformat_minor": 5
}
