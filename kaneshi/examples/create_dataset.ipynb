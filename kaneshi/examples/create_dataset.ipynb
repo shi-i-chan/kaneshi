{
 "cells": [
  {
   "cell_type": "code",
   "execution_count": 6,
   "id": "5320e096",
   "metadata": {},
   "outputs": [],
   "source": [
    "import sys\n",
    "sys.path.insert(1, 'D:/kaneshi')\n",
    "import kaneshi\n",
    "\n",
    "from kaneshi.core.market_data import MarketData\n",
    "from kaneshi.core.strategies import RSIFixedStop"
   ]
  },
  {
   "cell_type": "code",
   "execution_count": 7,
   "id": "6db0eb77",
   "metadata": {},
   "outputs": [],
   "source": [
    "m_config = {'symbol': 'BTCUSDT',\n",
    "            'interval': 1,\n",
    "            's_date': (2021, 1, 1),\n",
    "            'e_date': (2022, 1, 1),\n",
    "            'columns': 'Close',\n",
    "            'price_type': 'Close',\n",
    "           }\n",
    "\n",
    "market = MarketData.from_config(**m_config)"
   ]
  },
  {
   "cell_type": "code",
   "execution_count": 8,
   "id": "8ea6d28b",
   "metadata": {},
   "outputs": [],
   "source": [
    "s_config = {\n",
    "    'rsi_period': 14,\n",
    "    'bottom_edge': 45,\n",
    "    'upper_edge': 55,\n",
    "    'stop_loss_percent': -0.01,\n",
    "    'take_profit_percent': 0.01,\n",
    "    'market_data': market,\n",
    "}\n",
    "\n",
    "s = RSIFixedStop(**s_config).apply()"
   ]
  },
  {
   "cell_type": "code",
   "execution_count": 9,
   "id": "da603897",
   "metadata": {},
   "outputs": [
    {
     "data": {
      "text/html": [
       "<div>\n",
       "<style scoped>\n",
       "    .dataframe tbody tr th:only-of-type {\n",
       "        vertical-align: middle;\n",
       "    }\n",
       "\n",
       "    .dataframe tbody tr th {\n",
       "        vertical-align: top;\n",
       "    }\n",
       "\n",
       "    .dataframe thead th {\n",
       "        text-align: right;\n",
       "    }\n",
       "</style>\n",
       "<table border=\"1\" class=\"dataframe\">\n",
       "  <thead>\n",
       "    <tr style=\"text-align: right;\">\n",
       "      <th></th>\n",
       "      <th>n_trades</th>\n",
       "      <th>equal_return</th>\n",
       "      <th>cumulative_return</th>\n",
       "      <th>win_rate</th>\n",
       "      <th>mean_trade_time</th>\n",
       "      <th>max_return</th>\n",
       "      <th>max_drawdown</th>\n",
       "    </tr>\n",
       "  </thead>\n",
       "  <tbody>\n",
       "    <tr>\n",
       "      <th>0</th>\n",
       "      <td>3755</td>\n",
       "      <td>-574.022287</td>\n",
       "      <td>-99.734783</td>\n",
       "      <td>0.498535</td>\n",
       "      <td>114.209055</td>\n",
       "      <td>0.01</td>\n",
       "      <td>-0.01</td>\n",
       "    </tr>\n",
       "  </tbody>\n",
       "</table>\n",
       "</div>"
      ],
      "text/plain": [
       "   n_trades  equal_return  cumulative_return  win_rate  mean_trade_time  \\\n",
       "0      3755   -574.022287         -99.734783  0.498535       114.209055   \n",
       "\n",
       "   max_return  max_drawdown  \n",
       "0        0.01         -0.01  "
      ]
     },
     "execution_count": 9,
     "metadata": {},
     "output_type": "execute_result"
    }
   ],
   "source": [
    "s.generate_report(type_='df')"
   ]
  },
  {
   "cell_type": "code",
   "execution_count": 10,
   "id": "3119bf65",
   "metadata": {},
   "outputs": [],
   "source": [
    "s.create_dataset(lookback=100, dataset_fn='14_45_55_0.01_only_close')"
   ]
  },
  {
   "cell_type": "code",
   "execution_count": null,
   "id": "41e9a674",
   "metadata": {},
   "outputs": [],
   "source": []
  },
  {
   "cell_type": "code",
   "execution_count": 17,
   "id": "271e8312",
   "metadata": {},
   "outputs": [],
   "source": [
    "m_config = {'symbol': 'BTCUSDT',\n",
    "            'interval': 1,\n",
    "            's_date': (2021, 1, 1),\n",
    "            'e_date': (2022, 1, 1),\n",
    "            'columns': ['Open', 'High', 'Low', 'Close'],\n",
    "            'price_type': 'Close',\n",
    "           }\n",
    "\n",
    "market = MarketData.from_config(**m_config)"
   ]
  },
  {
   "cell_type": "code",
   "execution_count": 18,
   "id": "b076ad89",
   "metadata": {},
   "outputs": [],
   "source": [
    "s.market_data = market"
   ]
  },
  {
   "cell_type": "code",
   "execution_count": 19,
   "id": "6c225f39",
   "metadata": {},
   "outputs": [],
   "source": [
    "s.create_dataset(lookback=100, dataset_fn='14_45_55_0.01_ohlc')"
   ]
  },
  {
   "cell_type": "code",
   "execution_count": null,
   "id": "6b78d871",
   "metadata": {},
   "outputs": [],
   "source": []
  }
 ],
 "metadata": {
  "kernelspec": {
   "display_name": "Python 3 (ipykernel)",
   "language": "python",
   "name": "python3"
  },
  "language_info": {
   "codemirror_mode": {
    "name": "ipython",
    "version": 3
   },
   "file_extension": ".py",
   "mimetype": "text/x-python",
   "name": "python",
   "nbconvert_exporter": "python",
   "pygments_lexer": "ipython3",
   "version": "3.8.16"
  }
 },
 "nbformat": 4,
 "nbformat_minor": 5
}
