{
 "cells": [
  {
   "cell_type": "code",
   "execution_count": 1,
   "id": "cc02af81",
   "metadata": {},
   "outputs": [],
   "source": [
    "import sys\n",
    "sys.path.insert(1, 'D:/kaneshi')\n",
    "import kaneshi\n",
    "\n",
    "import matplotlib.pyplot as plt\n",
    "\n",
    "from kaneshi.config import ROOT_DIR\n",
    "from kaneshi.utils import read_df\n",
    "from kaneshi.core import strategies\n",
    "from kaneshi.core.market_data import MarketData"
   ]
  },
  {
   "cell_type": "code",
   "execution_count": 2,
   "id": "39217d85",
   "metadata": {},
   "outputs": [],
   "source": [
    "strategy_name = 'RSIOBSOneEdge'  # 'RSIOBS', 'SMAC', 'RSIOBSOneEdge' "
   ]
  },
  {
   "cell_type": "code",
   "execution_count": 3,
   "id": "f3e087d0",
   "metadata": {},
   "outputs": [],
   "source": [
    "save = True\n",
    "\n",
    "plot = False\n",
    "plot_type = 'plt'\n",
    "\n",
    "plot_return = False\n",
    "return_type = 'plt'\n",
    "return_dep_type = 'cumulative'"
   ]
  },
  {
   "cell_type": "code",
   "execution_count": 4,
   "id": "186a4a25",
   "metadata": {},
   "outputs": [],
   "source": [
    "btc_2021 = read_df(f'{ROOT_DIR}/tests/BTC_2021')\n",
    "market_data = MarketData(raw_df=btc_2021, interval=60)"
   ]
  },
  {
   "cell_type": "code",
   "execution_count": 5,
   "id": "df478ae0",
   "metadata": {},
   "outputs": [],
   "source": [
    "params = {\n",
    "    'RSIOBS': {\n",
    "        'rsi_period': 7,\n",
    "        'bottom_edge': 20,\n",
    "        'upper_edge': 80},\n",
    "    'RSIOBSOneEdge': {\n",
    "        'rsi_period': 7,\n",
    "        'edge': 30},\n",
    "    'SMAC': {\n",
    "        'sma': 100,\n",
    "        'lma': 300\n",
    "    }\n",
    "}"
   ]
  },
  {
   "cell_type": "markdown",
   "id": "450474a7",
   "metadata": {},
   "source": [
    "### Clear strategy"
   ]
  },
  {
   "cell_type": "code",
   "execution_count": 6,
   "id": "26bb39e4",
   "metadata": {},
   "outputs": [
    {
     "data": {
      "text/plain": [
       "[348, -7.206956, -28.564406, 0.270115, 1293.62069, 0.250511, -0.074707]"
      ]
     },
     "execution_count": 6,
     "metadata": {},
     "output_type": "execute_result"
    }
   ],
   "source": [
    "clear = getattr(strategies, f'{strategy_name}Clear')(**params[strategy_name],\n",
    "                                                     market_data=market_data).apply()\n",
    "\n",
    "clear.generate_report()"
   ]
  },
  {
   "cell_type": "code",
   "execution_count": 7,
   "id": "62d3fbc9",
   "metadata": {},
   "outputs": [],
   "source": [
    "if plot_return: clear.plot_return(return_type)"
   ]
  },
  {
   "cell_type": "code",
   "execution_count": 8,
   "id": "7fc67de0",
   "metadata": {},
   "outputs": [],
   "source": [
    "if plot: clear.plot(plot_type)"
   ]
  },
  {
   "cell_type": "markdown",
   "id": "94e3b81e",
   "metadata": {},
   "source": [
    "### Strategy with stop loss"
   ]
  },
  {
   "cell_type": "code",
   "execution_count": 9,
   "id": "62428e07",
   "metadata": {},
   "outputs": [
    {
     "data": {
      "text/plain": [
       "[51, -58.57066, -44.517128, 0.0, 4256.470588, -0.01, -0.01]"
      ]
     },
     "execution_count": 9,
     "metadata": {},
     "output_type": "execute_result"
    }
   ],
   "source": [
    "stop_loss_percent = -0.01\n",
    "\n",
    "stop_loss = getattr(strategies, f'{strategy_name}FixedStop')(**params[strategy_name],\n",
    "                                                             stop_loss_percent=stop_loss_percent,\n",
    "                                                             market_data=market_data).apply()\n",
    "\n",
    "stop_loss.generate_report()"
   ]
  },
  {
   "cell_type": "code",
   "execution_count": 10,
   "id": "04e29382",
   "metadata": {},
   "outputs": [],
   "source": [
    "if plot_return: stop_loss.plot_return(return_type)"
   ]
  },
  {
   "cell_type": "code",
   "execution_count": 11,
   "id": "f6edb358",
   "metadata": {},
   "outputs": [],
   "source": [
    "if plot: stop_loss.plot(plot_type)"
   ]
  },
  {
   "cell_type": "markdown",
   "id": "6a059e21",
   "metadata": {},
   "source": [
    "### Strategy with take profit"
   ]
  },
  {
   "cell_type": "code",
   "execution_count": 12,
   "id": "341d36e8",
   "metadata": {},
   "outputs": [
    {
     "data": {
      "text/plain": [
       "[56, 47.519181, 60.510153, 1.0, 2401.071429, 0.01, 0.01]"
      ]
     },
     "execution_count": 12,
     "metadata": {},
     "output_type": "execute_result"
    }
   ],
   "source": [
    "take_profit_percent = 0.01\n",
    "\n",
    "take_profit = getattr(strategies, f'{strategy_name}FixedStop')(**params[strategy_name],\n",
    "                                                               take_profit_percent=take_profit_percent,\n",
    "                                                               market_data=market_data).apply()\n",
    "\n",
    "take_profit.generate_report()"
   ]
  },
  {
   "cell_type": "code",
   "execution_count": 13,
   "id": "87a06adb",
   "metadata": {},
   "outputs": [],
   "source": [
    "if plot_return: take_profit.plot_return(return_type)"
   ]
  },
  {
   "cell_type": "code",
   "execution_count": 14,
   "id": "3690bed5",
   "metadata": {},
   "outputs": [],
   "source": [
    "if plot: take_profit.plot(plot_type)"
   ]
  },
  {
   "cell_type": "markdown",
   "id": "704108e0",
   "metadata": {},
   "source": [
    "### Strategy with stop loss and take profit"
   ]
  },
  {
   "cell_type": "code",
   "execution_count": 15,
   "id": "10fb5396",
   "metadata": {},
   "outputs": [
    {
     "data": {
      "text/plain": [
       "[307, -15.079214, -15.296495, 0.550489, 279.674267, 0.01, -0.01]"
      ]
     },
     "execution_count": 15,
     "metadata": {},
     "output_type": "execute_result"
    }
   ],
   "source": [
    "stop_loss_percent = -0.01\n",
    "take_profit_percent = 0.01\n",
    "\n",
    "stop_take = getattr(strategies, f'{strategy_name}FixedStop')(**params[strategy_name],\n",
    "                                                             stop_loss_percent=stop_loss_percent,\n",
    "                                                             take_profit_percent=take_profit_percent,\n",
    "                                                             market_data=market_data).apply()\n",
    "\n",
    "stop_take.generate_report()"
   ]
  },
  {
   "cell_type": "code",
   "execution_count": 16,
   "id": "aa7500b7",
   "metadata": {},
   "outputs": [],
   "source": [
    "if plot_return: stop_take.plot_return(return_type)"
   ]
  },
  {
   "cell_type": "code",
   "execution_count": 17,
   "id": "75a9e03b",
   "metadata": {},
   "outputs": [],
   "source": [
    "if plot: stop_take.plot(plot_type)"
   ]
  },
  {
   "cell_type": "code",
   "execution_count": 18,
   "id": "b953ae22",
   "metadata": {},
   "outputs": [],
   "source": [
    "def save_test_plots():\n",
    "    strategies = {'clear': clear, 'stop_loss': stop_loss, 'take_profit': take_profit, 'stop_take': stop_take}\n",
    "    for s_type, s in strategies.items():\n",
    "        plt.imsave(f'{strategy_name}_{s_type}_plot.png', s.plot(plot_type='array'))\n",
    "\n",
    "if save:\n",
    "    save_test_plots()"
   ]
  },
  {
   "cell_type": "code",
   "execution_count": null,
   "id": "fc6c090b",
   "metadata": {},
   "outputs": [],
   "source": []
  }
 ],
 "metadata": {
  "kernelspec": {
   "display_name": "Python 3 (ipykernel)",
   "language": "python",
   "name": "python3"
  },
  "language_info": {
   "codemirror_mode": {
    "name": "ipython",
    "version": 3
   },
   "file_extension": ".py",
   "mimetype": "text/x-python",
   "name": "python",
   "nbconvert_exporter": "python",
   "pygments_lexer": "ipython3",
   "version": "3.8.16"
  }
 },
 "nbformat": 4,
 "nbformat_minor": 5
}
