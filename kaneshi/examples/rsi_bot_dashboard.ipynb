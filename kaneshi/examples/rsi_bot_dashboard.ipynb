{
 "cells": [
  {
   "cell_type": "code",
   "execution_count": 1,
   "id": "f80d5b42",
   "metadata": {},
   "outputs": [],
   "source": [
    "import sys\n",
    "sys.path.insert(1, 'D:/kaneshi')\n",
    "import kaneshi\n",
    "\n",
    "import os\n",
    "from os import listdir\n",
    "from os.path import isfile, join\n",
    "\n",
    "import dash\n",
    "from dash import html, dcc\n",
    "from dash.dependencies import Output, Input\n",
    "\n",
    "from kaneshi.trading.visual import ClearRSIPlot\n",
    "from kaneshi.config import ROOT_DIR"
   ]
  },
  {
   "cell_type": "code",
   "execution_count": 4,
   "id": "615bec0b",
   "metadata": {},
   "outputs": [],
   "source": [
    "default_dir = f'{ROOT_DIR}/trading/databases/'\n",
    "\n",
    "config = {\n",
    "    'database_name': 'clear_rsi_XRPUSDT_30_50_55',\n",
    "    'bottom_edge': 50,\n",
    "    'upper_edge': 55,\n",
    "    'show_last_n': 500,\n",
    "    'time_step': 's',\n",
    "    'chart_shift': 50,\n",
    "}"
   ]
  },
  {
   "cell_type": "code",
   "execution_count": 5,
   "id": "d9d32dc2",
   "metadata": {},
   "outputs": [
    {
     "name": "stdout",
     "output_type": "stream",
     "text": [
      "Dash is running on http://127.0.0.1:8050/\n",
      "\n",
      "Dash is running on http://127.0.0.1:8050/\n",
      "\n",
      " * Serving Flask app '__main__'\n",
      " * Debug mode: on\n"
     ]
    }
   ],
   "source": [
    "def get_layout(app, options):\n",
    "    app.layout = html.Div(\n",
    "        [dcc.Dropdown(options=options,\n",
    "                      id='db_dropdown',\n",
    "                      value=options[0],\n",
    "                      multi=False,\n",
    "                      ),\n",
    "\n",
    "         dcc.Graph(id='live-graph',\n",
    "                   animate=True,\n",
    "                   config=dict({'scrollZoom': True})),\n",
    "\n",
    "         dcc.Interval(\n",
    "             id='graph-update',\n",
    "             interval=2_000,\n",
    "             n_intervals=0\n",
    "         ),\n",
    "        ]\n",
    "    )\n",
    "    return app\n",
    "\n",
    "\n",
    "def get_files(path: str = None):\n",
    "    files = [f for f in listdir(path) if isfile(join(path, f))]\n",
    "    return [os.path.splitext(file)[0] for file in files]\n",
    "\n",
    "\n",
    "app = dash.Dash(__name__)\n",
    "app = get_layout(app, get_files(default_dir))\n",
    "\n",
    "\n",
    "@app.callback(\n",
    "    Output('live-graph', 'figure'),\n",
    "    [Input('graph-update', 'n_intervals'),\n",
    "     Input('db_dropdown', 'value')]\n",
    ")\n",
    "def update_graph_scatter(n, db_name):\n",
    "    plotter = ClearRSIPlot(**config)\n",
    "\n",
    "    fig = plotter.plot()\n",
    "    fig.update_layout(\n",
    "        dragmode='pan',\n",
    "        newshape_line_color='cyan',\n",
    "        modebar_add=['drawline',\n",
    "                     'eraseshape'])\n",
    "    return fig\n",
    "\n",
    "app.run_server(debug=True, use_reloader=False)"
   ]
  },
  {
   "cell_type": "code",
   "execution_count": null,
   "id": "4f06182a",
   "metadata": {},
   "outputs": [],
   "source": []
  }
 ],
 "metadata": {
  "kernelspec": {
   "display_name": "Python 3 (ipykernel)",
   "language": "python",
   "name": "python3"
  },
  "language_info": {
   "codemirror_mode": {
    "name": "ipython",
    "version": 3
   },
   "file_extension": ".py",
   "mimetype": "text/x-python",
   "name": "python",
   "nbconvert_exporter": "python",
   "pygments_lexer": "ipython3",
   "version": "3.8.16"
  }
 },
 "nbformat": 4,
 "nbformat_minor": 5
}
